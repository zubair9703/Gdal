{
 "cells": [
  {
   "cell_type": "code",
   "execution_count": 1,
   "id": "6b87a54c-3856-47d8-a723-dd1307216ec2",
   "metadata": {},
   "outputs": [],
   "source": [
    "from osgeo import gdal"
   ]
  },
  {
   "cell_type": "code",
   "execution_count": 2,
   "id": "ff0bc800-3ed1-4134-8acf-efd0ed8f9a63",
   "metadata": {},
   "outputs": [],
   "source": [
    "ds=gdal.Open('Waterbodies1.tif')"
   ]
  },
  {
   "cell_type": "code",
   "execution_count": 3,
   "id": "254e7db6-8382-44ba-915e-d37569d755d1",
   "metadata": {},
   "outputs": [],
   "source": [
    "band=ds.GetRasterBand(1)"
   ]
  },
  {
   "cell_type": "code",
   "execution_count": 4,
   "id": "12cbcf09-2955-4527-8b64-bbb79cb86f56",
   "metadata": {},
   "outputs": [],
   "source": [
    "array=band.ReadAsArray()"
   ]
  },
  {
   "cell_type": "code",
   "execution_count": 5,
   "id": "2d562fc6-5ae5-47d0-bbf2-010aff26fffc",
   "metadata": {},
   "outputs": [],
   "source": [
    "driver = gdal.GetDriverByName('GTiff')"
   ]
  },
  {
   "cell_type": "code",
   "execution_count": 6,
   "id": "9c87c000-d916-46db-bd6a-0e1ab64f19af",
   "metadata": {},
   "outputs": [],
   "source": [
    "output=driver.Create('WN_NO_data_value.tif',\n",
    "                     ds.RasterXSize,ds.RasterYSize,\n",
    "                     1,gdal.GDT_Byte,[\"COMPRESS=LZW\"])"
   ]
  },
  {
   "cell_type": "code",
   "execution_count": 7,
   "id": "ffca0d50-4b2d-47cb-9238-79ffc8568324",
   "metadata": {},
   "outputs": [],
   "source": [
    "outband=output.GetRasterBand(1)"
   ]
  },
  {
   "cell_type": "code",
   "execution_count": 8,
   "id": "5d07f596-d54a-44dc-a2a4-51bade9ffeea",
   "metadata": {},
   "outputs": [
    {
     "data": {
      "text/plain": [
       "0"
      ]
     },
     "execution_count": 8,
     "metadata": {},
     "output_type": "execute_result"
    }
   ],
   "source": [
    "outband.WriteArray(array)"
   ]
  },
  {
   "cell_type": "code",
   "execution_count": 9,
   "id": "ff6cc2a6-1e2f-4ce3-ab04-b178b770f5d8",
   "metadata": {},
   "outputs": [
    {
     "data": {
      "text/plain": [
       "0"
      ]
     },
     "execution_count": 9,
     "metadata": {},
     "output_type": "execute_result"
    }
   ],
   "source": [
    "outband.SetNoDataValue(0.0)"
   ]
  },
  {
   "cell_type": "code",
   "execution_count": 10,
   "id": "02eae2db-0e54-4d84-9400-b0561d90f852",
   "metadata": {},
   "outputs": [
    {
     "data": {
      "text/plain": [
       "0"
      ]
     },
     "execution_count": 10,
     "metadata": {},
     "output_type": "execute_result"
    }
   ],
   "source": [
    "output.SetProjection(ds.GetProjection())\n",
    "output.SetGeoTransform(ds.GetGeoTransform())"
   ]
  },
  {
   "cell_type": "code",
   "execution_count": 11,
   "id": "b956825f-bfdd-42a7-8680-22f10e2891ed",
   "metadata": {},
   "outputs": [],
   "source": [
    "del output,ds"
   ]
  }
 ],
 "metadata": {
  "kernelspec": {
   "display_name": "Python 3",
   "language": "python",
   "name": "python3"
  },
  "language_info": {
   "codemirror_mode": {
    "name": "ipython",
    "version": 3
   },
   "file_extension": ".py",
   "mimetype": "text/x-python",
   "name": "python",
   "nbconvert_exporter": "python",
   "pygments_lexer": "ipython3",
   "version": "3.6.9"
  }
 },
 "nbformat": 4,
 "nbformat_minor": 5
}
