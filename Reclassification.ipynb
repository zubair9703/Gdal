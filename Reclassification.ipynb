{
 "cells": [
  {
   "cell_type": "code",
   "execution_count": 16,
   "id": "d9403240-1240-49df-9633-45c719a9bfd8",
   "metadata": {},
   "outputs": [],
   "source": [
    "from osgeo import gdal\n",
    "import numpy as np"
   ]
  },
  {
   "cell_type": "code",
   "execution_count": 17,
   "id": "026f99e9-a3a0-4ed9-a49a-45bf77ac442c",
   "metadata": {},
   "outputs": [],
   "source": [
    "ds=gdal.Open('Bathymetry_rasterizednew005.tif')"
   ]
  },
  {
   "cell_type": "code",
   "execution_count": 18,
   "id": "d54bd15a-175b-467b-9e41-c32e8cc8facf",
   "metadata": {},
   "outputs": [],
   "source": [
    "band=ds.GetRasterBand(1)"
   ]
  },
  {
   "cell_type": "code",
   "execution_count": 19,
   "id": "6428c38c-52f0-4479-bf80-f2e840c1c4d5",
   "metadata": {},
   "outputs": [],
   "source": [
    "array=band.ReadAsArray()"
   ]
  },
  {
   "cell_type": "code",
   "execution_count": 22,
   "id": "58bb745c-c2dc-4d18-8070-6a33206bb453",
   "metadata": {},
   "outputs": [
    {
     "name": "stdout",
     "output_type": "stream",
     "text": [
      "(4264, 6666)\n"
     ]
    }
   ],
   "source": [
    "print(array.shape)"
   ]
  },
  {
   "cell_type": "code",
   "execution_count": 5,
   "id": "64e329ad-a0be-4134-aecc-6bf75a6e0374",
   "metadata": {},
   "outputs": [],
   "source": [
    "array[np.where((array==-1000))]=100\n",
    "array[np.where((array==-750))]=75\n",
    "array[np.where((array==-500))]=50\n",
    "array[np.where((array==-250))]=25\n",
    "array[np.where((array==-200))]=20\n",
    "array[np.where((array==-100))]=10\n",
    "array[np.where((array==-50))]=5\n",
    "array[np.where((array==-25))]=2"
   ]
  },
  {
   "cell_type": "code",
   "execution_count": 6,
   "id": "849dc6bc-e745-42b8-b87e-983fc23a2e73",
   "metadata": {},
   "outputs": [
    {
     "data": {
      "text/plain": [
       "array([[0, 0, 0, ..., 0, 0, 0],\n",
       "       [0, 0, 0, ..., 0, 0, 0],\n",
       "       [0, 0, 0, ..., 0, 0, 0],\n",
       "       ...,\n",
       "       [0, 0, 0, ..., 0, 0, 0],\n",
       "       [0, 0, 0, ..., 0, 0, 0],\n",
       "       [0, 0, 0, ..., 0, 0, 0]], dtype=int8)"
      ]
     },
     "execution_count": 6,
     "metadata": {},
     "output_type": "execute_result"
    }
   ],
   "source": [
    "array.astype(np.int8)"
   ]
  },
  {
   "cell_type": "code",
   "execution_count": 7,
   "id": "2009d876-0e5e-4cbb-adc4-925cb7cca75c",
   "metadata": {},
   "outputs": [],
   "source": [
    "driver = gdal.GetDriverByName('GTiff')"
   ]
  },
  {
   "cell_type": "code",
   "execution_count": 8,
   "id": "df9529a8-f2d4-4f45-b2b5-335c005ed725",
   "metadata": {},
   "outputs": [],
   "source": [
    "output=driver.Create('reclassified.tif',ds.RasterXSize,ds.RasterYSize,1,gdal.GDT_Byte,[\"COMPRESS=LZW\"])"
   ]
  },
  {
   "cell_type": "code",
   "execution_count": 9,
   "id": "158fb477-8560-426f-9bb4-f40a7cc3b2bb",
   "metadata": {},
   "outputs": [],
   "source": [
    "outband=output.GetRasterBand(1)"
   ]
  },
  {
   "cell_type": "code",
   "execution_count": 10,
   "id": "9b243c9a-78a0-43de-a9c4-ef8fcbce7096",
   "metadata": {},
   "outputs": [
    {
     "data": {
      "text/plain": [
       "0"
      ]
     },
     "execution_count": 10,
     "metadata": {},
     "output_type": "execute_result"
    }
   ],
   "source": [
    "outband.WriteArray(array)"
   ]
  },
  {
   "cell_type": "code",
   "execution_count": 11,
   "id": "c1de260f-acf5-4224-bdb3-71341e6870d5",
   "metadata": {},
   "outputs": [
    {
     "data": {
      "text/plain": [
       "0"
      ]
     },
     "execution_count": 11,
     "metadata": {},
     "output_type": "execute_result"
    }
   ],
   "source": [
    "outband.SetNoDataValue(0.0)"
   ]
  },
  {
   "cell_type": "code",
   "execution_count": 12,
   "id": "72378bc7-faf6-4da9-8356-39f7ded32310",
   "metadata": {},
   "outputs": [],
   "source": [
    "# c=gdal.ColorTable()\n",
    "# c.SetColorEntry(2,(250,250,250))\n",
    "# c.SetColorEntry(5,(215,215,215))\n",
    "# c.SetColorEntry(10,(180,180,180))\n",
    "# c.SetColorEntry(20,(145,145,145))\n",
    "# c.SetColorEntry(25,(110,110,110))\n",
    "# c.SetColorEntry(50,(75,75,75))\n",
    "# c.SetColorEntry(75,(40,40,40))\n",
    "# c.SetColorEntry(100,(5,5,5))"
   ]
  },
  {
   "cell_type": "code",
   "execution_count": 13,
   "id": "bdcb0e57-2a4a-4f43-8acc-a4b2038057eb",
   "metadata": {},
   "outputs": [],
   "source": [
    "# outband.SetRasterColorTable(c)\n",
    "# outband.SetRasterColorInterpretation(gdal.GCI_GrayIndex)"
   ]
  },
  {
   "cell_type": "code",
   "execution_count": 14,
   "id": "8485b988-6f97-4e77-93aa-08757ede93b8",
   "metadata": {},
   "outputs": [
    {
     "data": {
      "text/plain": [
       "0"
      ]
     },
     "execution_count": 14,
     "metadata": {},
     "output_type": "execute_result"
    }
   ],
   "source": [
    "output.SetProjection(ds.GetProjection())\n",
    "output.SetGeoTransform(ds.GetGeoTransform())"
   ]
  },
  {
   "cell_type": "code",
   "execution_count": 15,
   "id": "c0fbab14-d0fd-436d-9780-49a52e9d2c0f",
   "metadata": {},
   "outputs": [],
   "source": [
    "del output,ds"
   ]
  },
  {
   "cell_type": "code",
   "execution_count": null,
   "id": "5fa3a8eb-0745-4586-a86e-e6c666d05b65",
   "metadata": {},
   "outputs": [],
   "source": []
  }
 ],
 "metadata": {
  "kernelspec": {
   "display_name": "Python 3",
   "language": "python",
   "name": "python3"
  },
  "language_info": {
   "codemirror_mode": {
    "name": "ipython",
    "version": 3
   },
   "file_extension": ".py",
   "mimetype": "text/x-python",
   "name": "python",
   "nbconvert_exporter": "python",
   "pygments_lexer": "ipython3",
   "version": "3.6.9"
  }
 },
 "nbformat": 4,
 "nbformat_minor": 5
}
